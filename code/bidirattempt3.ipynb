{
 "cells": [
  {
   "cell_type": "code",
   "execution_count": 66,
   "metadata": {},
   "outputs": [],
   "source": [
    "import networkx as nx\n",
    "import matplotlib.pyplot as plt\n",
    "from collections import deque"
   ]
  },
  {
   "cell_type": "markdown",
   "metadata": {},
   "source": [
    "CELL BELOW:\n",
    "initiate node count, and connection between nodes (edge)"
   ]
  },
  {
   "cell_type": "code",
   "execution_count": 190,
   "metadata": {},
   "outputs": [],
   "source": [
    "num_nodes = 10\n",
    "edges = [(1, 2), (1, 3), (1, 4), (2, 5), (2, 6), (2, 7),\n",
    "         (3, 7), (3, 8), (4, 9), (5, 6), (7, 10), (9, 10)]"
   ]
  },
  {
   "cell_type": "markdown",
   "metadata": {},
   "source": [
    "CELL BELOW:\n",
    "define class nga mag generate kang graph for our bidirectional BFS which would be using edges to generate paths which will define the look of the graph"
   ]
  },
  {
   "cell_type": "code",
   "execution_count": 217,
   "metadata": {},
   "outputs": [
    {
     "name": "stdout",
     "output_type": "stream",
     "text": [
      "g1.data Adjacency List:\n",
      "(Node: [Neighbor Node, Neighbor Node, ...])\n",
      "1: [2, 3, 4]\n",
      "2: [1, 5, 6, 7]\n",
      "3: [1, 7, 8]\n",
      "4: [1, 9]\n",
      "5: [2, 6]\n",
      "6: [2, 5]\n",
      "7: [2, 3, 10]\n",
      "8: [3]\n",
      "9: [4, 10]\n",
      "10: [7, 9]\n",
      "graph Adjacency List: \n",
      "(Node: [Neighbor Node, Neighbor Node, ...])\n",
      "{1: [2, 3, 4], 2: [1, 5, 6, 7], 3: [1, 7, 8], 4: [1, 9], 5: [2, 6], 6: [2, 5], 7: [2, 3, 10], 8: [3], 9: [4, 10], 10: [7, 9]}\n"
     ]
    }
   ],
   "source": [
    "class Graph: #class nga gahimo kang adjacency list graph contains functions...\n",
    "    def __init__(self, num_nodes, edges): #tana ja ang constructor\n",
    "        self.num_nodes = num_nodes\n",
    "        self.data = [[] for _ in range(num_nodes + 1)]\n",
    "        for n1, n2 in edges:\n",
    "            self.data[n1].append(n2)\n",
    "            self.data[n2].append(n1)\n",
    "        self.data.pop(0) #pop ko kay di kaya isipon kang range and num_nodes kay ga array counting sha ya (from 0) te i +1 ko. te tapos maappend ako don, mahimo paths, gahimo sha blank nga path sa una as result kang pag +1 sa range so kinanglan i-pop otherwise detrimental tana sasequences karon.\n",
    "        #example, may num_nodes ako nga 10, mahimo ran nga 0 to 9 pero i + 1 ko para mahimo nga 0-10 tapos i pop(0) ko para i delete ang zero para mahimo nga 1-10 ezpz\n",
    "    \n",
    "    def __repr__(self): #function nga ginarewrite and data into dictionary syntax or adjacency list\n",
    "        return\"\\n\".join([\"{}: {}\".format(n+1, neighbors) for n, neighbors in enumerate(self.data)])\n",
    "    \n",
    "    def __str__(self): #function nga ginatawag ang __repr__ automatically\n",
    "        return self.__repr__()\n",
    "    \n",
    "    def get_adjacency_list(self):\n",
    "        adjacency_list = {}\n",
    "        for n, neighbors in enumerate(self.data):\n",
    "            adjacency_list[n + 1] = neighbors\n",
    "        return adjacency_list\n",
    "    \n",
    "\n",
    "start_node = 10\n",
    "target_node = 5\n",
    "\n",
    "g1 = Graph(num_nodes, edges)\n",
    "graph = g1.get_adjacency_list() #reassign contents kang g1 into graph dictionary\n",
    "print(\"g1.data Adjacency List:\\n(Node: [Neighbor Node, Neighbor Node, ...])\")\n",
    "print(g1)\n",
    "print(\"graph Adjacency List: \\n(Node: [Neighbor Node, Neighbor Node, ...])\")\n",
    "print(graph)"
   ]
  },
  {
   "cell_type": "markdown",
   "metadata": {},
   "source": [
    "CELL BELOW:\n",
    "Used ChatGPT to generate a matplotlib + networkx visual aid for the graph."
   ]
  },
  {
   "cell_type": "code",
   "execution_count": 218,
   "metadata": {},
   "outputs": [
    {
     "data": {
      "image/png": "[encoded data removed]",
      "text/plain": [
       "<Figure size 640x480 with 1 Axes>"
      ]
     },
     "metadata": {},
     "output_type": "display_data"
    }
   ],
   "source": [
    "# Create an empty NetworkX graph\n",
    "nx_graph = nx.Graph()\n",
    "\n",
    "# Add nodes to the NetworkX graph\n",
    "nx_graph.add_nodes_from(range(1, g1.num_nodes + 1))  # Use g1.num_nodes instead of num_nodes\n",
    "\n",
    "# Add edges to the NetworkX graph based on your custom graph's data\n",
    "for node, neighbors in enumerate(g1.data, start=1):\n",
    "    for neighbor in neighbors:\n",
    "        nx_graph.add_edge(node, neighbor)\n",
    "\n",
    "# Perform a breadth-first search to determine node generations\n",
    "generations = {}  # Dictionary to store the generation of each node\n",
    "bfs_tree = nx.bfs_tree(nx_graph, source=1)\n",
    "for node in bfs_tree.nodes:\n",
    "    generations[node] = len(nx.shortest_path(bfs_tree, 1, node)) - 1\n",
    "\n",
    "# Create a new NetworkX graph with \"generation\" attributes\n",
    "nx_graph_with_attributes = nx.Graph()\n",
    "for node, generation in generations.items():\n",
    "    nx_graph_with_attributes.add_node(node, generation=generation)\n",
    "\n",
    "for edge in nx_graph.edges:\n",
    "    nx_graph_with_attributes.add_edge(edge[0], edge[1])\n",
    "\n",
    "# Generate hierarchical positions for nodes\n",
    "pos = nx.multipartite_layout(nx_graph_with_attributes, subset_key=\"generation\", align=\"horizontal\")\n",
    "\n",
    "# Draw the graph using matplotlib\n",
    "nx.draw(nx_graph_with_attributes, pos, with_labels=True, node_color='lightblue', node_size=800, font_size=10, font_color='black')\n",
    "plt.title(\"Node Graph Visualization\")\n",
    "plt.show()"
   ]
  },
  {
   "cell_type": "markdown",
   "metadata": {},
   "source": [
    "CELL BELOW:\n",
    "BFS Attempt"
   ]
  },
  {
   "cell_type": "code",
   "execution_count": 219,
   "metadata": {},
   "outputs": [],
   "source": [
    "def BFS(graph, start_node, target_node):\n",
    "    global BFSPath #extract ang BFSPath para magamit outside kang bfs function\n",
    "    visited = set()\n",
    "    queue = deque([(start_node, [start_node])])\n",
    "\n",
    "    while queue:\n",
    "        node, path = queue.popleft()\n",
    "        if node == target_node:\n",
    "            print(\"Shortest path:\", ' -> '.join(map(str, path)))\n",
    "            BFSPath = [path]\n",
    "            return path\n",
    "        if node not in visited:\n",
    "            visited.add(node)\n",
    "            for child in graph.get(node, []):\n",
    "                if child not in visited:\n",
    "                    new_path = path + [child]\n",
    "                    queue.append((child, new_path))"
   ]
  },
  {
   "cell_type": "markdown",
   "metadata": {},
   "source": [
    "CELL BELOW:\n",
    "PRINT BFS"
   ]
  },
  {
   "cell_type": "code",
   "execution_count": 220,
   "metadata": {},
   "outputs": [
    {
     "name": "stdout",
     "output_type": "stream",
     "text": [
      "BFS Shortest Path:\n",
      "Shortest path: 10 -> 7 -> 2 -> 5\n",
      "[[10, 7, 2, 5]]\n"
     ]
    }
   ],
   "source": [
    "print(\"BFS Shortest Path:\")\n",
    "BFS(graph, start_node, target_node)\n",
    "print(BFSPath)"
   ]
  },
  {
   "cell_type": "markdown",
   "metadata": {},
   "source": [
    "CELL BELOW: Used ChatGPT to visualize the path"
   ]
  },
  {
   "cell_type": "code",
   "execution_count": 221,
   "metadata": {},
   "outputs": [
    {
     "name": "stdout",
     "output_type": "stream",
     "text": [
      "{}\n"
     ]
    }
   ],
   "source": [
    "path_dict = {}\n",
    "\n",
    "for i in range(len(BFSPath) - 1):\n",
    "    path_dict[BFSPath[i]] = [BFSPath[i + 1]]\n",
    "\n",
    "print(path_dict)"
   ]
  }
 ],
 "metadata": {
  "kernelspec": {
   "display_name": "Python 3",
   "language": "python",
   "name": "python3"
  },
  "language_info": {
   "codemirror_mode": {
    "name": "ipython",
    "version": 3
   },
   "file_extension": ".py",
   "mimetype": "text/x-python",
   "name": "python",
   "nbconvert_exporter": "python",
   "pygments_lexer": "ipython3",
   "version": "3.11.1"
  },
  "orig_nbformat": 4
 },
 "nbformat": 4,
 "nbformat_minor": 2
}
